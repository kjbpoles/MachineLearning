{
 "cells": [
  {
   "cell_type": "code",
   "execution_count": 1,
   "metadata": {},
   "outputs": [],
   "source": [
    "import numpy as np"
   ]
  },
  {
   "cell_type": "code",
   "execution_count": 2,
   "metadata": {},
   "outputs": [],
   "source": [
    "def calculate_distance(v1, v2):\n",
    "    cal_diff = np.array(v1) - np.array(v2)\n",
    "    sq_diff = cal_diff ** 2\n",
    "    row_sum = sq_diff.sum()\n",
    "    distance = np.sqrt(row_sum)\n",
    "    return distance"
   ]
  },
  {
   "cell_type": "code",
   "execution_count": 3,
   "metadata": {},
   "outputs": [],
   "source": [
    "def calculate_knn(k, dataset, target):\n",
    "\n",
    "    distance = []\n",
    "\n",
    "    for data, _ in dataset:\n",
    "        distance.append(\n",
    "           calculate_distance(data, target)) # 모든 거리를 계산\n",
    "\n",
    "    distance_sorted_index = np.array(distance).argsort() # 계산한 거리들을 정렬\n",
    "\n",
    "    result = {}\n",
    "\n",
    "    for i in range(k): # k개의 상위 거리에 대하여\n",
    "        _, label = dataset[distance_sorted_index[i]] # 해당 거리에 해당하는 데이터의 라벨을 가져와서\n",
    "        if label in result:\n",
    "            result[label] += 1 # 라벨 카운팅\n",
    "        else:\n",
    "            result[label] = 1\n",
    "\n",
    "    return result"
   ]
  },
  {
   "cell_type": "code",
   "execution_count": 4,
   "metadata": {},
   "outputs": [],
   "source": [
    "dataset = [\n",
    "    # ([아삭거림, 단맛], 라벨)\n",
    "    ([8, 5], \"과일\"), # 포도\n",
    "    ([2, 3], \"단백질\"), # 생선\n",
    "    ([7, 10], \"채소\"), # 당근\n",
    "    ([7, 3], \"과일\"), # 오렌지\n",
    "    ([3, 8], \"채소\"), # 셀러리\n",
    "    ([1, 1], \"단백질\") # 치즈\n",
    "]"
   ]
  },
  {
   "cell_type": "code",
   "execution_count": 5,
   "metadata": {},
   "outputs": [
    {
     "name": "stdout",
     "output_type": "stream",
     "text": [
      "{'채소': 1, '과일': 1}\n"
     ]
    }
   ],
   "source": [
    "print(calculate_knn(2, dataset, [7, 8]))"
   ]
  },
  {
   "cell_type": "code",
   "execution_count": 6,
   "metadata": {},
   "outputs": [
    {
     "name": "stdout",
     "output_type": "stream",
     "text": [
      "{'채소': 2, '과일': 1}\n"
     ]
    }
   ],
   "source": [
    "print(calculate_knn(3, dataset, [7, 8]))"
   ]
  },
  {
   "cell_type": "code",
   "execution_count": 7,
   "metadata": {},
   "outputs": [
    {
     "name": "stdout",
     "output_type": "stream",
     "text": [
      "{'채소': 2, '과일': 2}\n"
     ]
    }
   ],
   "source": [
    "print(calculate_knn(4, dataset, [7, 8]))"
   ]
  },
  {
   "cell_type": "code",
   "execution_count": 8,
   "metadata": {},
   "outputs": [
    {
     "name": "stdout",
     "output_type": "stream",
     "text": [
      "{'채소': 2, '과일': 2, '단백질': 1}\n"
     ]
    }
   ],
   "source": [
    "print(calculate_knn(5, dataset, [7, 8]))"
   ]
  },
  {
   "cell_type": "code",
   "execution_count": null,
   "metadata": {},
   "outputs": [],
   "source": []
  }
 ],
 "metadata": {
  "kernelspec": {
   "display_name": "Python 3",
   "language": "python",
   "name": "python3"
  },
  "language_info": {
   "codemirror_mode": {
    "name": "ipython",
    "version": 3
   },
   "file_extension": ".py",
   "mimetype": "text/x-python",
   "name": "python",
   "nbconvert_exporter": "python",
   "pygments_lexer": "ipython3",
   "version": "3.7.3"
  }
 },
 "nbformat": 4,
 "nbformat_minor": 2
}
