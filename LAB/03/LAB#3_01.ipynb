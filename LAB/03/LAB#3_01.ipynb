{
 "cells": [
  {
   "cell_type": "code",
   "execution_count": 39,
   "metadata": {},
   "outputs": [],
   "source": [
    "import matplotlib.pyplot as plt"
   ]
  },
  {
   "cell_type": "code",
   "execution_count": 40,
   "metadata": {},
   "outputs": [],
   "source": [
    "x_data = [1.0, 2.0, 3.0]\n",
    "y_data = [2.0, 4.0, 6.0]"
   ]
  },
  {
   "cell_type": "code",
   "execution_count": 70,
   "metadata": {},
   "outputs": [],
   "source": [
    "w = 1 # a random guess: random value \n",
    "lr = 100 # learning rate\n",
    "# our model forward pass"
   ]
  },
  {
   "cell_type": "code",
   "execution_count": 42,
   "metadata": {},
   "outputs": [],
   "source": [
    "def forward(x):\n",
    "    return x * w"
   ]
  },
  {
   "cell_type": "code",
   "execution_count": 43,
   "metadata": {},
   "outputs": [],
   "source": [
    "# Loss function\n",
    "def loss(x, y):\n",
    "    y_pred = forward(x)\n",
    "    return (y_pred - y) * (y_pred - y)"
   ]
  },
  {
   "cell_type": "code",
   "execution_count": 44,
   "metadata": {},
   "outputs": [],
   "source": [
    "# compute gradient\n",
    "def gradient(x, y): # d_loss/d_w \n",
    "    return 2 * x * (x * w - y)"
   ]
  },
  {
   "cell_type": "code",
   "execution_count": 45,
   "metadata": {},
   "outputs": [
    {
     "name": "stdout",
     "output_type": "stream",
     "text": [
      "predict (before training) 4 4.0\n"
     ]
    }
   ],
   "source": [
    "# Before training\n",
    "print(\"predict (before training)\", 4, forward(4))"
   ]
  },
  {
   "cell_type": "code",
   "execution_count": 71,
   "metadata": {},
   "outputs": [
    {
     "name": "stdout",
     "output_type": "stream",
     "text": [
      "\tgrad:  1.0 2.0 -2.0\n",
      "\tgrad:  2.0 4.0 1592.0\n",
      "\tgrad:  3.0 6.0 -2862018.0\n",
      "progress: 0 w= 286042801.0 loss= 7.363843457377896e+17\n",
      "\tgrad:  1.0 2.0 572085598.0\n",
      "\tgrad:  2.0 4.0 -455380136008.0\n",
      "\tgrad:  3.0 6.0 818659639508382.0\n",
      "progress: 1 w= -8.18204828597544e+16 loss= 6.025132273863027e+34\n",
      "\tgrad:  1.0 2.0 -1.636409657195088e+17\n",
      "\tgrad:  2.0 4.0 1.3025820871272902e+20\n",
      "\tgrad:  3.0 6.0 -2.3417169471330857e+23\n",
      "progress: 2 w= 2.340415993273567e+25 loss= 4.9297923194136275e+51\n",
      "\tgrad:  1.0 2.0 4.680831986547134e+25\n",
      "\tgrad:  2.0 4.0 -3.7259422612915186e+28\n",
      "\tgrad:  3.0 6.0 6.698312700236827e+31\n",
      "progress: 3 w= -6.694591415403363e+33 loss= 4.0335798797273155e+68\n",
      "\tgrad:  1.0 2.0 -1.3389182830806725e+34\n",
      "\tgrad:  2.0 4.0 1.0657789533322154e+37\n",
      "\tgrad:  3.0 6.0 -1.9160041133529903e+40\n",
      "progress: 4 w= 1.9149396666233496e+42 loss= 3.300294534126791e+85\n",
      "\tgrad:  1.0 2.0 3.829879333246699e+42\n",
      "\tgrad:  2.0 4.0 -3.0485839492643725e+45\n",
      "\tgrad:  3.0 6.0 5.480591794790027e+48\n",
      "progress: 5 w= -5.477547021570699e+50 loss= 2.7003169236166234e+102\n",
      "\tgrad:  1.0 2.0 -1.0955094043141399e+51\n",
      "\tgrad:  2.0 4.0 8.720254858340554e+53\n",
      "\tgrad:  3.0 6.0 -1.567683817158173e+57\n",
      "progress: 6 w= 1.5668128817041963e+59 loss= 2.2094123456467875e+119\n",
      "\tgrad:  1.0 2.0 3.1336257634083926e+59\n",
      "\tgrad:  2.0 4.0 -2.4943661076730807e+62\n",
      "\tgrad:  3.0 6.0 4.484246670069281e+65\n",
      "progress: 7 w= -4.481755421919242e+67 loss= 1.8077518495712268e+136\n",
      "\tgrad:  1.0 2.0 -8.963510843838484e+67\n",
      "\tgrad:  2.0 4.0 7.134954631695433e+70\n",
      "\tgrad:  3.0 6.0 -1.2826864689130464e+74\n",
      "progress: 8 w= 1.2819738653192057e+76 loss= 1.4791112922253184e+153\n",
      "\tgrad:  1.0 2.0 2.5639477306384115e+76\n",
      "\tgrad:  2.0 4.0 -2.0409023935881756e+79\n",
      "\tgrad:  3.0 6.0 3.669032278073142e+82\n",
      "progress: 9 w= -3.666993926807546e+84 loss= 1.2102160013319084e+170\n"
     ]
    },
    {
     "data": {
      "image/png": "[encoded data removed]",
      "text/plain": [
       "<Figure size 432x288 with 1 Axes>"
      ]
     },
     "metadata": {
      "needs_background": "light"
     },
     "output_type": "display_data"
    },
    {
     "data": {
      "image/png": "[encoded data removed]",
      "text/plain": [
       "<Figure size 432x288 with 1 Axes>"
      ]
     },
     "metadata": {
      "needs_background": "light"
     },
     "output_type": "display_data"
    }
   ],
   "source": [
    "epoch_list = []\n",
    "w_list = []\n",
    "loss_list = []\n",
    "\n",
    "# Training loop\n",
    "for epoch in range(10):\n",
    "    for x_val, y_val in zip(x_data, y_data):\n",
    "        grad = gradient(x_val, y_val)\n",
    "        w = w - lr * grad\n",
    "        print(\"\\tgrad: \", x_val, y_val, round(grad, 2)) \n",
    "        l = loss(x_val, y_val)\n",
    "        epoch_list.append(epoch)\n",
    "        w_list.append(w)\n",
    "        loss_list.append(l)\n",
    "    print(\"progress:\", epoch, \"w=\", round(w, 2), \"loss=\", round(l, 2))\n",
    "    \n",
    "plt.plot(epoch_list, w_list) # x축이 w_list, y축이 mse_list인 그래프를 그림\n",
    "plt.ylabel('w') # y축 이름을 Loss로 설정\n",
    "plt.xlabel('epoch') # x축 이름을 w로 설정\n",
    "plt.show() # 그래프 출력\n",
    "\n",
    "plt.plot(epoch_list, loss_list) # x축이 w_list, y축이 mse_list인 그래프를 그림\n",
    "plt.ylabel('loss') # y축 이름을 Loss로 설정\n",
    "plt.xlabel('epoch') # x축 이름을 w로 설정\n",
    "plt.show() # 그래프 출력"
   ]
  },
  {
   "cell_type": "code",
   "execution_count": 47,
   "metadata": {},
   "outputs": [
    {
     "name": "stdout",
     "output_type": "stream",
     "text": [
      "predict (after training) 4 hours 7.804863933862125\n"
     ]
    }
   ],
   "source": [
    "# After training\n",
    "print(\"predict (after training)\", \"4 hours\", forward(4))"
   ]
  },
  {
   "cell_type": "code",
   "execution_count": null,
   "metadata": {},
   "outputs": [],
   "source": []
  }
 ],
 "metadata": {
  "kernelspec": {
   "display_name": "Python 3",
   "language": "python",
   "name": "python3"
  },
  "language_info": {
   "codemirror_mode": {
    "name": "ipython",
    "version": 3
   },
   "file_extension": ".py",
   "mimetype": "text/x-python",
   "name": "python",
   "nbconvert_exporter": "python",
   "pygments_lexer": "ipython3",
   "version": "3.7.3"
  }
 },
 "nbformat": 4,
 "nbformat_minor": 2
}
